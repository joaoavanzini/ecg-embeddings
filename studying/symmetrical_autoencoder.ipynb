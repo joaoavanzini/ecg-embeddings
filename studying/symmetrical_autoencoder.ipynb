{
 "cells": [
  {
   "cell_type": "markdown",
   "metadata": {},
   "source": [
    "# Autoencoder for getting vector embeddings\n",
    "\n",
    "**Advisor:** Marcos M. Raimundo <br>\n",
    "**Co-Advisor:** Thalita Veronese <br>\n",
    "**Student:** João Victor P. B. Avanzini"
   ]
  },
  {
   "cell_type": "markdown",
   "metadata": {},
   "source": [
    "## Imports"
   ]
  },
  {
   "cell_type": "code",
   "execution_count": 1,
   "metadata": {
    "id": "pxQ9xKtUlzfq",
    "tags": []
   },
   "outputs": [
    {
     "name": "stderr",
     "output_type": "stream",
     "text": [
      "2023-12-16 19:25:05.504335: E external/local_xla/xla/stream_executor/cuda/cuda_dnn.cc:9261] Unable to register cuDNN factory: Attempting to register factory for plugin cuDNN when one has already been registered\n",
      "2023-12-16 19:25:05.504372: E external/local_xla/xla/stream_executor/cuda/cuda_fft.cc:607] Unable to register cuFFT factory: Attempting to register factory for plugin cuFFT when one has already been registered\n",
      "2023-12-16 19:25:05.505512: E external/local_xla/xla/stream_executor/cuda/cuda_blas.cc:1515] Unable to register cuBLAS factory: Attempting to register factory for plugin cuBLAS when one has already been registered\n",
      "2023-12-16 19:25:05.512453: I tensorflow/core/platform/cpu_feature_guard.cc:182] This TensorFlow binary is optimized to use available CPU instructions in performance-critical operations.\n",
      "To enable the following instructions: AVX2 FMA, in other operations, rebuild TensorFlow with the appropriate compiler flags.\n",
      "2023-12-16 19:25:06.461307: W tensorflow/compiler/tf2tensorrt/utils/py_utils.cc:38] TF-TRT Warning: Could not find TensorRT\n"
     ]
    },
    {
     "name": "stdout",
     "output_type": "stream",
     "text": [
      "Device mapping:\n",
      "/job:localhost/replica:0/task:0/device:GPU:0 -> device: 0, name: NVIDIA GeForce GTX TITAN X, pci bus id: 0000:04:00.0, compute capability: 5.2\n",
      "/job:localhost/replica:0/task:0/device:GPU:1 -> device: 1, name: NVIDIA GeForce GTX TITAN X, pci bus id: 0000:05:00.0, compute capability: 5.2\n",
      "\n"
     ]
    },
    {
     "name": "stderr",
     "output_type": "stream",
     "text": [
      "2023-12-16 19:25:08.795560: I tensorflow/core/common_runtime/gpu/gpu_device.cc:1929] Created device /job:localhost/replica:0/task:0/device:GPU:0 with 11602 MB memory:  -> device: 0, name: NVIDIA GeForce GTX TITAN X, pci bus id: 0000:04:00.0, compute capability: 5.2\n",
      "2023-12-16 19:25:08.796259: I tensorflow/core/common_runtime/gpu/gpu_device.cc:1929] Created device /job:localhost/replica:0/task:0/device:GPU:1 with 11601 MB memory:  -> device: 1, name: NVIDIA GeForce GTX TITAN X, pci bus id: 0000:05:00.0, compute capability: 5.2\n"
     ]
    }
   ],
   "source": [
    "import tensorflow as tf\n",
    "import os\n",
    "\n",
    "import neurokit2 as nk\n",
    "\n",
    "\n",
    "import warnings\n",
    "warnings.filterwarnings('ignore')\n",
    "\n",
    "import numpy as np\n",
    "import pandas as pd\n",
    "import matplotlib.pyplot as plt\n",
    "from tqdm.keras import TqdmCallback\n",
    "\n",
    "from keras.models import Sequential, Model\n",
    "from keras.layers import Dense, Dropout, Conv1D, Conv2D, MaxPooling1D, MaxPooling2D, Flatten, Input, Conv1DTranspose, Conv2DTranspose, Reshape\n",
    "from tensorflow.keras.optimizers import Adam\n",
    "from keras.utils import to_categorical\n",
    "import tensorflow as tf\n",
    "\n",
    "from keras.models import Sequential, Model\n",
    "from keras.layers import Dense, Dropout, Conv1D, MaxPooling1D, Flatten, Input, Conv1DTranspose, Reshape, UpSampling1D\n",
    "from tensorflow.keras.optimizers import Adam\n",
    "\n",
    "from matplotlib.offsetbox import OffsetImage, AnnotationBbox\n",
    "\n",
    "import tensorflow as tf\n",
    "from tensorflow.keras.models import Sequential\n",
    "from tensorflow.keras.layers import Conv1D, Dense, MaxPooling1D, Flatten, UpSampling1D, Conv1DTranspose, RepeatVector, Reshape, TimeDistributed\n",
    "from tensorflow.keras.optimizers import Adam\n",
    "\n",
    "\n",
    "sess = tf.compat.v1.Session(config=tf.compat.v1.ConfigProto(log_device_placement=True))"
   ]
  },
  {
   "cell_type": "markdown",
   "metadata": {},
   "source": [
    "## 50 Subjects of single ECG autoencoder"
   ]
  },
  {
   "cell_type": "code",
   "execution_count": 2,
   "metadata": {
    "tags": []
   },
   "outputs": [],
   "source": [
    "subjects = pd.read_csv('../scripting/ecg_downloader/data/merged_ecg_data.csv')"
   ]
  },
  {
   "cell_type": "code",
   "execution_count": 3,
   "metadata": {
    "tags": []
   },
   "outputs": [
    {
     "data": {
      "text/plain": [
       "(7500000, 1)"
      ]
     },
     "execution_count": 3,
     "metadata": {},
     "output_type": "execute_result"
    }
   ],
   "source": [
    "subjects.shape"
   ]
  },
  {
   "cell_type": "code",
   "execution_count": 4,
   "metadata": {
    "tags": []
   },
   "outputs": [
    {
     "data": {
      "text/plain": [
       "(250, 30000, 1)"
      ]
     },
     "execution_count": 4,
     "metadata": {},
     "output_type": "execute_result"
    }
   ],
   "source": [
    "subjects_reshaped = subjects.values.reshape((250, 30000, 1))\n",
    "subjects_reshaped.shape"
   ]
  },
  {
   "cell_type": "code",
   "execution_count": 5,
   "metadata": {},
   "outputs": [
    {
     "name": "stdout",
     "output_type": "stream",
     "text": [
      "INFO:tensorflow:Using MirroredStrategy with devices ('/job:localhost/replica:0/task:0/device:GPU:0', '/job:localhost/replica:0/task:0/device:GPU:1')\n"
     ]
    },
    {
     "name": "stderr",
     "output_type": "stream",
     "text": [
      "2023-12-16 19:25:09.693389: I tensorflow/core/common_runtime/gpu/gpu_device.cc:1929] Created device /job:localhost/replica:0/task:0/device:GPU:0 with 11602 MB memory:  -> device: 0, name: NVIDIA GeForce GTX TITAN X, pci bus id: 0000:04:00.0, compute capability: 5.2\n",
      "2023-12-16 19:25:09.693589: I tensorflow/core/common_runtime/gpu/gpu_device.cc:1929] Created device /job:localhost/replica:0/task:0/device:GPU:1 with 11601 MB memory:  -> device: 1, name: NVIDIA GeForce GTX TITAN X, pci bus id: 0000:05:00.0, compute capability: 5.2\n"
     ]
    }
   ],
   "source": [
    "strategy = tf.distribute.MirroredStrategy()"
   ]
  },
  {
   "cell_type": "code",
   "execution_count": 6,
   "metadata": {},
   "outputs": [
    {
     "name": "stdout",
     "output_type": "stream",
     "text": [
      "Epoch 1/10\n",
      "INFO:tensorflow:Collective all_reduce tensors: 16 all_reduces, num_devices = 2, group_size = 2, implementation = CommunicationImplementation.NCCL, num_packs = 1\n",
      "INFO:tensorflow:Reduce to /job:localhost/replica:0/task:0/device:CPU:0 then broadcast to ('/job:localhost/replica:0/task:0/device:CPU:0',).\n",
      "INFO:tensorflow:Reduce to /job:localhost/replica:0/task:0/device:CPU:0 then broadcast to ('/job:localhost/replica:0/task:0/device:CPU:0',).\n",
      "INFO:tensorflow:Collective all_reduce tensors: 16 all_reduces, num_devices = 2, group_size = 2, implementation = CommunicationImplementation.NCCL, num_packs = 1\n",
      "INFO:tensorflow:Reduce to /job:localhost/replica:0/task:0/device:CPU:0 then broadcast to ('/job:localhost/replica:0/task:0/device:CPU:0',).\n",
      "INFO:tensorflow:Reduce to /job:localhost/replica:0/task:0/device:CPU:0 then broadcast to ('/job:localhost/replica:0/task:0/device:CPU:0',).\n"
     ]
    },
    {
     "name": "stderr",
     "output_type": "stream",
     "text": [
      "2023-12-16 19:25:14.118347: I external/local_xla/xla/stream_executor/cuda/cuda_dnn.cc:454] Loaded cuDNN version 8904\n",
      "2023-12-16 19:25:14.144998: I external/local_xla/xla/stream_executor/cuda/cuda_dnn.cc:454] Loaded cuDNN version 8904\n",
      "2023-12-16 19:25:20.992258: W tensorflow/core/kernels/conv_ops_gpu.cc:322] None of the algorithms provided by cuDNN frontend heuristics worked; trying fallback algorithms.  Conv: batch: 1920000\n",
      "in_depths: 16\n",
      "out_depths: 8\n",
      "in: 1\n",
      "in: 2\n",
      "data_format: 1\n",
      "filter: 1\n",
      "filter: 250\n",
      "filter: 16\n",
      "dilation: 1\n",
      "dilation: 1\n",
      "stride: 1\n",
      "stride: 1\n",
      "padding: 0\n",
      "padding: 124\n",
      "dtype: DT_FLOAT\n",
      "group_count: 1\n",
      "device_identifier: \"sm_5.2 with 12799967232B RAM, 24 cores, 1076000KHz clock, 3505000KHz mem clock, 3145728B L2$\"\n",
      "version: 3\n",
      "\n",
      "2023-12-16 19:25:21.133416: W tensorflow/core/kernels/conv_ops_gpu.cc:322] None of the algorithms provided by cuDNN frontend heuristics worked; trying fallback algorithms.  Conv: batch: 1920000\n",
      "in_depths: 16\n",
      "out_depths: 8\n",
      "in: 1\n",
      "in: 2\n",
      "data_format: 1\n",
      "filter: 1\n",
      "filter: 250\n",
      "filter: 16\n",
      "dilation: 1\n",
      "dilation: 1\n",
      "stride: 1\n",
      "stride: 1\n",
      "padding: 0\n",
      "padding: 124\n",
      "dtype: DT_FLOAT\n",
      "group_count: 1\n",
      "device_identifier: \"sm_5.2 with 12798132224B RAM, 24 cores, 1076000KHz clock, 3505000KHz mem clock, 3145728B L2$\"\n",
      "version: 3\n",
      "\n",
      "2023-12-16 19:25:22.683850: W tensorflow/core/kernels/conv_ops_gpu.cc:322] None of the algorithms provided by cuDNN frontend heuristics worked; trying fallback algorithms.  Conv: batch: 1920000\n",
      "in_depths: 32\n",
      "out_depths: 16\n",
      "in: 1\n",
      "in: 2\n",
      "data_format: 1\n",
      "filter: 1\n",
      "filter: 250\n",
      "filter: 32\n",
      "dilation: 1\n",
      "dilation: 1\n",
      "stride: 1\n",
      "stride: 1\n",
      "padding: 0\n",
      "padding: 124\n",
      "dtype: DT_FLOAT\n",
      "group_count: 1\n",
      "device_identifier: \"sm_5.2 with 12799967232B RAM, 24 cores, 1076000KHz clock, 3505000KHz mem clock, 3145728B L2$\"\n",
      "version: 3\n",
      "\n",
      "2023-12-16 19:25:22.876540: W tensorflow/core/kernels/conv_ops_gpu.cc:322] None of the algorithms provided by cuDNN frontend heuristics worked; trying fallback algorithms.  Conv: batch: 1920000\n",
      "in_depths: 32\n",
      "out_depths: 16\n",
      "in: 1\n",
      "in: 2\n",
      "data_format: 1\n",
      "filter: 1\n",
      "filter: 250\n",
      "filter: 32\n",
      "dilation: 1\n",
      "dilation: 1\n",
      "stride: 1\n",
      "stride: 1\n",
      "padding: 0\n",
      "padding: 124\n",
      "dtype: DT_FLOAT\n",
      "group_count: 1\n",
      "device_identifier: \"sm_5.2 with 12798132224B RAM, 24 cores, 1076000KHz clock, 3505000KHz mem clock, 3145728B L2$\"\n",
      "version: 3\n",
      "\n",
      "2023-12-16 19:25:30.766992: W tensorflow/core/kernels/conv_ops_gpu.cc:322] None of the algorithms provided by cuDNN frontend heuristics worked; trying fallback algorithms.  Conv: batch: 1920000\n",
      "in_depths: 64\n",
      "out_depths: 32\n",
      "in: 1\n",
      "in: 2\n",
      "data_format: 1\n",
      "filter: 1\n",
      "filter: 250\n",
      "filter: 64\n",
      "dilation: 1\n",
      "dilation: 1\n",
      "stride: 1\n",
      "stride: 1\n",
      "padding: 0\n",
      "padding: 124\n",
      "dtype: DT_FLOAT\n",
      "group_count: 1\n",
      "device_identifier: \"sm_5.2 with 12798132224B RAM, 24 cores, 1076000KHz clock, 3505000KHz mem clock, 3145728B L2$\"\n",
      "version: 3\n",
      "\n",
      "2023-12-16 19:25:30.767105: W tensorflow/core/kernels/conv_ops_gpu.cc:322] None of the algorithms provided by cuDNN frontend heuristics worked; trying fallback algorithms.  Conv: batch: 1920000\n",
      "in_depths: 64\n",
      "out_depths: 32\n",
      "in: 1\n",
      "in: 2\n",
      "data_format: 1\n",
      "filter: 1\n",
      "filter: 250\n",
      "filter: 64\n",
      "dilation: 1\n",
      "dilation: 1\n",
      "stride: 1\n",
      "stride: 1\n",
      "padding: 0\n",
      "padding: 124\n",
      "dtype: DT_FLOAT\n",
      "group_count: 1\n",
      "device_identifier: \"sm_5.2 with 12799967232B RAM, 24 cores, 1076000KHz clock, 3505000KHz mem clock, 3145728B L2$\"\n",
      "version: 3\n",
      "\n",
      "2023-12-16 19:26:15.934601: W tensorflow/core/kernels/conv_ops_gpu.cc:322] None of the algorithms provided by cuDNN frontend heuristics worked; trying fallback algorithms.  Conv: batch: 1920000\n",
      "in_depths: 64\n",
      "out_depths: 32\n",
      "in: 1\n",
      "in: 2\n",
      "data_format: 1\n",
      "filter: 1\n",
      "filter: 250\n",
      "filter: 64\n",
      "dilation: 1\n",
      "dilation: 1\n",
      "stride: 1\n",
      "stride: 1\n",
      "padding: 0\n",
      "padding: 124\n",
      "dtype: DT_FLOAT\n",
      "group_count: 1\n",
      "device_identifier: \"sm_5.2 with 12799967232B RAM, 24 cores, 1076000KHz clock, 3505000KHz mem clock, 3145728B L2$\"\n",
      "version: 3\n",
      "\n",
      "2023-12-16 19:26:19.084281: W tensorflow/core/kernels/conv_ops_gpu.cc:322] None of the algorithms provided by cuDNN frontend heuristics worked; trying fallback algorithms.  Conv: batch: 1920000\n",
      "in_depths: 64\n",
      "out_depths: 32\n",
      "in: 1\n",
      "in: 2\n",
      "data_format: 1\n",
      "filter: 1\n",
      "filter: 250\n",
      "filter: 64\n",
      "dilation: 1\n",
      "dilation: 1\n",
      "stride: 1\n",
      "stride: 1\n",
      "padding: 0\n",
      "padding: 124\n",
      "dtype: DT_FLOAT\n",
      "group_count: 1\n",
      "device_identifier: \"sm_5.2 with 12798132224B RAM, 24 cores, 1076000KHz clock, 3505000KHz mem clock, 3145728B L2$\"\n",
      "version: 3\n",
      "\n",
      "2023-12-16 19:27:37.314527: I external/local_xla/xla/service/service.cc:168] XLA service 0x7f5972f2e520 initialized for platform CUDA (this does not guarantee that XLA will be used). Devices:\n",
      "2023-12-16 19:27:37.314556: I external/local_xla/xla/service/service.cc:176]   StreamExecutor device (0): NVIDIA GeForce GTX TITAN X, Compute Capability 5.2\n",
      "2023-12-16 19:27:37.314562: I external/local_xla/xla/service/service.cc:176]   StreamExecutor device (1): NVIDIA GeForce GTX TITAN X, Compute Capability 5.2\n",
      "2023-12-16 19:27:37.321109: I tensorflow/compiler/mlir/tensorflow/utils/dump_mlir_util.cc:269] disabling MLIR crash reproducer, set env var `MLIR_CRASH_REPRODUCER_DIRECTORY` to enable.\n",
      "WARNING: All log messages before absl::InitializeLog() is called are written to STDERR\n",
      "I0000 00:00:1702754857.430527    5807 device_compiler.h:186] Compiled cluster using XLA!  This line is logged at most once for the lifetime of the process.\n"
     ]
    },
    {
     "name": "stdout",
     "output_type": "stream",
     "text": [
      "1/2 [==============>...............] - ETA: 2:28 - loss: 0.1615"
     ]
    },
    {
     "name": "stderr",
     "output_type": "stream",
     "text": [
      "2023-12-16 19:27:46.061754: W tensorflow/core/kernels/conv_ops_gpu.cc:322] None of the algorithms provided by cuDNN frontend heuristics worked; trying fallback algorithms.  Conv: batch: 1830000\n",
      "in_depths: 16\n",
      "out_depths: 8\n",
      "in: 1\n",
      "in: 2\n",
      "data_format: 1\n",
      "filter: 1\n",
      "filter: 250\n",
      "filter: 16\n",
      "dilation: 1\n",
      "dilation: 1\n",
      "stride: 1\n",
      "stride: 1\n",
      "padding: 0\n",
      "padding: 124\n",
      "dtype: DT_FLOAT\n",
      "group_count: 1\n",
      "device_identifier: \"sm_5.2 with 12799967232B RAM, 24 cores, 1076000KHz clock, 3505000KHz mem clock, 3145728B L2$\"\n",
      "version: 3\n",
      "\n",
      "2023-12-16 19:27:46.234857: W tensorflow/core/kernels/conv_ops_gpu.cc:322] None of the algorithms provided by cuDNN frontend heuristics worked; trying fallback algorithms.  Conv: batch: 1830000\n",
      "in_depths: 16\n",
      "out_depths: 8\n",
      "in: 1\n",
      "in: 2\n",
      "data_format: 1\n",
      "filter: 1\n",
      "filter: 250\n",
      "filter: 16\n",
      "dilation: 1\n",
      "dilation: 1\n",
      "stride: 1\n",
      "stride: 1\n",
      "padding: 0\n",
      "padding: 124\n",
      "dtype: DT_FLOAT\n",
      "group_count: 1\n",
      "device_identifier: \"sm_5.2 with 12798132224B RAM, 24 cores, 1076000KHz clock, 3505000KHz mem clock, 3145728B L2$\"\n",
      "version: 3\n",
      "\n",
      "2023-12-16 19:27:48.259728: W tensorflow/core/kernels/conv_ops_gpu.cc:322] None of the algorithms provided by cuDNN frontend heuristics worked; trying fallback algorithms.  Conv: batch: 1830000\n",
      "in_depths: 32\n",
      "out_depths: 16\n",
      "in: 1\n",
      "in: 2\n",
      "data_format: 1\n",
      "filter: 1\n",
      "filter: 250\n",
      "filter: 32\n",
      "dilation: 1\n",
      "dilation: 1\n",
      "stride: 1\n",
      "stride: 1\n",
      "padding: 0\n",
      "padding: 124\n",
      "dtype: DT_FLOAT\n",
      "group_count: 1\n",
      "device_identifier: \"sm_5.2 with 12799967232B RAM, 24 cores, 1076000KHz clock, 3505000KHz mem clock, 3145728B L2$\"\n",
      "version: 3\n",
      "\n",
      "2023-12-16 19:27:48.446548: W tensorflow/core/kernels/conv_ops_gpu.cc:322] None of the algorithms provided by cuDNN frontend heuristics worked; trying fallback algorithms.  Conv: batch: 1830000\n",
      "in_depths: 32\n",
      "out_depths: 16\n",
      "in: 1\n",
      "in: 2\n",
      "data_format: 1\n",
      "filter: 1\n",
      "filter: 250\n",
      "filter: 32\n",
      "dilation: 1\n",
      "dilation: 1\n",
      "stride: 1\n",
      "stride: 1\n",
      "padding: 0\n",
      "padding: 124\n",
      "dtype: DT_FLOAT\n",
      "group_count: 1\n",
      "device_identifier: \"sm_5.2 with 12798132224B RAM, 24 cores, 1076000KHz clock, 3505000KHz mem clock, 3145728B L2$\"\n",
      "version: 3\n",
      "\n",
      "2023-12-16 19:27:55.944980: W tensorflow/core/kernels/conv_ops_gpu.cc:322] None of the algorithms provided by cuDNN frontend heuristics worked; trying fallback algorithms.  Conv: batch: 1830000\n",
      "in_depths: 64\n",
      "out_depths: 32\n",
      "in: 1\n",
      "in: 2\n",
      "data_format: 1\n",
      "filter: 1\n",
      "filter: 250\n",
      "filter: 64\n",
      "dilation: 1\n",
      "dilation: 1\n",
      "stride: 1\n",
      "stride: 1\n",
      "padding: 0\n",
      "padding: 124\n",
      "dtype: DT_FLOAT\n",
      "group_count: 1\n",
      "device_identifier: \"sm_5.2 with 12799967232B RAM, 24 cores, 1076000KHz clock, 3505000KHz mem clock, 3145728B L2$\"\n",
      "version: 3\n",
      "\n",
      "2023-12-16 19:27:56.316106: W tensorflow/core/kernels/conv_ops_gpu.cc:322] None of the algorithms provided by cuDNN frontend heuristics worked; trying fallback algorithms.  Conv: batch: 1830000\n",
      "in_depths: 64\n",
      "out_depths: 32\n",
      "in: 1\n",
      "in: 2\n",
      "data_format: 1\n",
      "filter: 1\n",
      "filter: 250\n",
      "filter: 64\n",
      "dilation: 1\n",
      "dilation: 1\n",
      "stride: 1\n",
      "stride: 1\n",
      "padding: 0\n",
      "padding: 124\n",
      "dtype: DT_FLOAT\n",
      "group_count: 1\n",
      "device_identifier: \"sm_5.2 with 12798132224B RAM, 24 cores, 1076000KHz clock, 3505000KHz mem clock, 3145728B L2$\"\n",
      "version: 3\n",
      "\n",
      "2023-12-16 19:28:41.251348: W tensorflow/core/kernels/conv_ops_gpu.cc:322] None of the algorithms provided by cuDNN frontend heuristics worked; trying fallback algorithms.  Conv: batch: 1830000\n",
      "in_depths: 64\n",
      "out_depths: 32\n",
      "in: 1\n",
      "in: 2\n",
      "data_format: 1\n",
      "filter: 1\n",
      "filter: 250\n",
      "filter: 64\n",
      "dilation: 1\n",
      "dilation: 1\n",
      "stride: 1\n",
      "stride: 1\n",
      "padding: 0\n",
      "padding: 124\n",
      "dtype: DT_FLOAT\n",
      "group_count: 1\n",
      "device_identifier: \"sm_5.2 with 12799967232B RAM, 24 cores, 1076000KHz clock, 3505000KHz mem clock, 3145728B L2$\"\n",
      "version: 3\n",
      "\n",
      "2023-12-16 19:28:44.299209: W tensorflow/core/kernels/conv_ops_gpu.cc:322] None of the algorithms provided by cuDNN frontend heuristics worked; trying fallback algorithms.  Conv: batch: 1830000\n",
      "in_depths: 64\n",
      "out_depths: 32\n",
      "in: 1\n",
      "in: 2\n",
      "data_format: 1\n",
      "filter: 1\n",
      "filter: 250\n",
      "filter: 64\n",
      "dilation: 1\n",
      "dilation: 1\n",
      "stride: 1\n",
      "stride: 1\n",
      "padding: 0\n",
      "padding: 124\n",
      "dtype: DT_FLOAT\n",
      "group_count: 1\n",
      "device_identifier: \"sm_5.2 with 12798132224B RAM, 24 cores, 1076000KHz clock, 3505000KHz mem clock, 3145728B L2$\"\n",
      "version: 3\n",
      "\n"
     ]
    },
    {
     "name": "stdout",
     "output_type": "stream",
     "text": [
      "2/2 [==============================] - ETA: 0s - loss: 0.1570  INFO:tensorflow:Reduce to /job:localhost/replica:0/task:0/device:CPU:0 then broadcast to ('/job:localhost/replica:0/task:0/device:CPU:0',).\n",
      "INFO:tensorflow:Reduce to /job:localhost/replica:0/task:0/device:CPU:0 then broadcast to ('/job:localhost/replica:0/task:0/device:CPU:0',).\n",
      "2/2 [==============================] - 292s 144s/step - loss: 0.1570\n",
      "INFO:tensorflow:Reduce to /job:localhost/replica:0/task:0/device:CPU:0 then broadcast to ('/job:localhost/replica:0/task:0/device:CPU:0',).\n",
      "INFO:tensorflow:Reduce to /job:localhost/replica:0/task:0/device:CPU:0 then broadcast to ('/job:localhost/replica:0/task:0/device:CPU:0',).\n",
      "Epoch 2/10\n",
      "2/2 [==============================] - ETA: 0s - loss: 0.1569INFO:tensorflow:Reduce to /job:localhost/replica:0/task:0/device:CPU:0 then broadcast to ('/job:localhost/replica:0/task:0/device:CPU:0',).\n",
      "INFO:tensorflow:Reduce to /job:localhost/replica:0/task:0/device:CPU:0 then broadcast to ('/job:localhost/replica:0/task:0/device:CPU:0',).\n",
      "2/2 [==============================] - 16s 8s/step - loss: 0.1569\n",
      "Epoch 3/10\n",
      "2/2 [==============================] - 15s 7s/step - loss: 0.1567\n",
      "Epoch 4/10\n",
      "2/2 [==============================] - 15s 7s/step - loss: 0.1565\n",
      "Epoch 5/10\n",
      "2/2 [==============================] - 15s 7s/step - loss: 0.1563\n",
      "Epoch 6/10\n",
      "2/2 [==============================] - 15s 7s/step - loss: 0.1560\n",
      "Epoch 7/10\n",
      "2/2 [==============================] - 15s 7s/step - loss: 0.1553\n",
      "Epoch 8/10\n",
      "2/2 [==============================] - 15s 7s/step - loss: 0.1543\n",
      "Epoch 9/10\n",
      "2/2 [==============================] - 15s 7s/step - loss: 0.1539\n",
      "Epoch 10/10\n",
      "2/2 [==============================] - 15s 7s/step - loss: 0.1541\n"
     ]
    }
   ],
   "source": [
    "with strategy.scope():\n",
    "    encoder_1 = tf.keras.models.Sequential([\n",
    "        Conv1D(64, 250, activation='relu', padding='same', input_shape=(30000, 1)),\n",
    "        Dense(32, activation='relu'),\n",
    "        MaxPooling1D(),\n",
    "        Conv1D(32, 250, activation='relu', padding='same'),\n",
    "        Dense(16, activation='relu'),\n",
    "        MaxPooling1D(),\n",
    "        Flatten(),\n",
    "        Dense(8)\n",
    "    ], name='encoder_1')\n",
    "\n",
    "    encoder_2 = tf.keras.models.Sequential([\n",
    "        RepeatVector(30000),\n",
    "        Reshape((30000, 1, 8)),\n",
    "        TimeDistributed(Conv1DTranspose(16, 250, activation='relu', padding='same')),\n",
    "        TimeDistributed(Conv1DTranspose(32, 250, activation='relu', padding='same')),\n",
    "        TimeDistributed(Conv1DTranspose(64, 250, activation='relu', padding='same')),\n",
    "        Reshape((30000, 64))\n",
    "    ], name='encoder_2')\n",
    "\n",
    "    custom_optimizer = Adam(learning_rate=0.001)\n",
    "    symmetrical_encoder = Sequential([encoder_1, encoder_2])\n",
    "    symmetrical_encoder.compile(optimizer=custom_optimizer, loss=\"mse\")\n",
    "\n",
    "history = symmetrical_encoder.fit(subjects_reshaped, subjects_reshaped, batch_size=128, epochs=10, verbose=1)"
   ]
  },
  {
   "cell_type": "code",
   "execution_count": 8,
   "metadata": {},
   "outputs": [
    {
     "name": "stdout",
     "output_type": "stream",
     "text": [
      "Model: \"decoder\"\n",
      "_________________________________________________________________\n",
      " Layer (type)                Output Shape              Param #   \n",
      "=================================================================\n",
      " reshape_2 (Reshape)         (None, 8, 1)              0         \n",
      "                                                                 \n",
      " conv1d_transpose_3 (Conv1D  (None, 30000, 8)          239952    \n",
      " Transpose)                                                      \n",
      "                                                                 \n",
      " dense_3 (Dense)             (None, 30000, 16)         144       \n",
      "                                                                 \n",
      " conv1d_transpose_4 (Conv1D  (None, 30000, 16)         64016     \n",
      " Transpose)                                                      \n",
      "                                                                 \n",
      " dense_4 (Dense)             (None, 30000, 32)         544       \n",
      "                                                                 \n",
      " conv1d_transpose_5 (Conv1D  (None, 30000, 32)         256032    \n",
      " Transpose)                                                      \n",
      "                                                                 \n",
      " dense_5 (Dense)             (None, 30000, 64)         2112      \n",
      "                                                                 \n",
      " conv1d_transpose_6 (Conv1D  (None, 30000, 1)          16001     \n",
      " Transpose)                                                      \n",
      "                                                                 \n",
      "=================================================================\n",
      "Total params: 578801 (2.21 MB)\n",
      "Trainable params: 578801 (2.21 MB)\n",
      "Non-trainable params: 0 (0.00 Byte)\n",
      "_________________________________________________________________\n"
     ]
    }
   ],
   "source": [
    "with strategy.scope():\n",
    "    decoder = Sequential([\n",
    "        Reshape((8, 1), input_shape=(8,)),\n",
    "        Conv1DTranspose(8, 29993, activation='relu', padding='valid'),\n",
    "        Dense(16, activation='relu'),\n",
    "        Conv1DTranspose(16, 250, activation='relu', padding='same'),\n",
    "        Dense(32, activation='relu'),\n",
    "        Conv1DTranspose(32, 250, activation='relu', padding='same'),\n",
    "        Dense(64, activation='relu'),\n",
    "        Conv1DTranspose(1, 250, activation='linear', padding='same')\n",
    "    ], name='decoder')\n",
    "decoder.summary()"
   ]
  },
  {
   "cell_type": "code",
   "execution_count": 9,
   "metadata": {
    "tags": []
   },
   "outputs": [
    {
     "data": {
      "image/png": "[encoded data removed]",
      "text/plain": [
       "<Figure size 1500x500 with 1 Axes>"
      ]
     },
     "metadata": {},
     "output_type": "display_data"
    }
   ],
   "source": [
    "plot_df = pd.DataFrame.from_dict({'train_loss':history.history['loss']})\n",
    "plot_df.plot(logy=True, figsize=(15,5), fontsize=12)\n",
    "plt.xlabel('epoch', fontsize=12)\n",
    "plt.ylabel('loss', fontsize=12)\n",
    "plt.show()"
   ]
  },
  {
   "cell_type": "markdown",
   "metadata": {},
   "source": [
    "## Inference"
   ]
  },
  {
   "cell_type": "code",
   "execution_count": 10,
   "metadata": {},
   "outputs": [],
   "source": [
    "subject_60 = pd.read_csv('../scripting/ecg_downloader/data/output_blobs_case_60/all_subject_60_blobs.csv')"
   ]
  },
  {
   "cell_type": "code",
   "execution_count": 11,
   "metadata": {},
   "outputs": [
    {
     "data": {
      "text/plain": [
       "(150000, 1)"
      ]
     },
     "execution_count": 11,
     "metadata": {},
     "output_type": "execute_result"
    }
   ],
   "source": [
    "subject_60.shape"
   ]
  },
  {
   "cell_type": "code",
   "execution_count": 12,
   "metadata": {},
   "outputs": [
    {
     "data": {
      "text/plain": [
       "(5, 30000, 1)"
      ]
     },
     "execution_count": 12,
     "metadata": {},
     "output_type": "execute_result"
    }
   ],
   "source": [
    "subject_60_reshaped = subject_60.values.reshape((5, 30000, 1))\n",
    "subject_60_reshaped.shape"
   ]
  },
  {
   "cell_type": "code",
   "execution_count": 13,
   "metadata": {},
   "outputs": [
    {
     "name": "stdout",
     "output_type": "stream",
     "text": [
      "1/1 [==============================] - 1s 1s/step\n"
     ]
    },
    {
     "data": {
      "text/plain": [
       "array([[ 55.72416  ,  82.67009  , -26.77422  ,  87.160934 , -43.287125 ,\n",
       "         76.59911  ,  89.0426   , -50.381474 ],\n",
       "       [ 87.993416 , 121.52829  , -51.035854 , 125.22867  , -61.65792  ,\n",
       "        103.226776 , 123.03574  , -81.20357  ],\n",
       "       [ 12.503287 ,  22.956526 ,  -4.0211315,  23.350653 ,  -8.532124 ,\n",
       "         17.805246 ,  22.678665 , -11.135566 ],\n",
       "       [  8.830195 ,  16.041977 ,  -3.7030296,  16.989737 ,  -7.0398493,\n",
       "         13.303135 ,  16.763971 ,  -8.284057 ],\n",
       "       [ 28.816492 ,  46.826214 , -14.524847 ,  47.672657 , -24.062557 ,\n",
       "         39.628433 ,  47.886612 , -28.434565 ]], dtype=float32)"
      ]
     },
     "execution_count": 13,
     "metadata": {},
     "output_type": "execute_result"
    }
   ],
   "source": [
    "latent_representations = encoder_1.predict(subject_60_reshaped)\n",
    "latent_representations"
   ]
  },
  {
   "cell_type": "code",
   "execution_count": 14,
   "metadata": {
    "scrolled": true
   },
   "outputs": [
    {
     "name": "stdout",
     "output_type": "stream",
     "text": [
      "1/1 [==============================] - 2s 2s/step\n"
     ]
    },
    {
     "data": {
      "text/plain": [
       "(150000, 1)"
      ]
     },
     "execution_count": 14,
     "metadata": {},
     "output_type": "execute_result"
    }
   ],
   "source": [
    "generated_ecgs = decoder.predict(latent_representations)\n",
    "generated_ecgs_reshaped = generated_ecgs.reshape((-1, 1))\n",
    "generated_ecgs_reshaped.shape"
   ]
  },
  {
   "cell_type": "code",
   "execution_count": 15,
   "metadata": {},
   "outputs": [
    {
     "data": {
      "text/plain": [
       "Text(0, 0.5, 'Signal Value')"
      ]
     },
     "execution_count": 15,
     "metadata": {},
     "output_type": "execute_result"
    },
    {
     "data": {
      "image/png": "[encoded data removed]",
      "text/plain": [
       "<Figure size 1000x800 with 2 Axes>"
      ]
     },
     "metadata": {},
     "output_type": "display_data"
    }
   ],
   "source": [
    "fig, axs = plt.subplots(2, 1, figsize=(10, 8), sharex=True)\n",
    "\n",
    "axs[0].plot(subject_60, label='Original ECG', color='blue')\n",
    "axs[0].legend()\n",
    "axs[0].set_title('Original ECG')\n",
    "axs[0].set_ylabel('Signal Value')\n",
    "\n",
    "axs[1].plot(generated_ecgs_reshaped, label='Reconstructed ECG', color='orange')\n",
    "axs[1].legend()\n",
    "axs[1].set_title('Reconstructed ECG')\n",
    "axs[1].set_xlabel('Sample Index')\n",
    "axs[1].set_ylabel('Signal Value')"
   ]
  },
  {
   "cell_type": "code",
   "execution_count": 16,
   "metadata": {},
   "outputs": [
    {
     "name": "stdout",
     "output_type": "stream",
     "text": [
      "Mean Squared Error (MSE): 0.4176707673457744\n"
     ]
    }
   ],
   "source": [
    "mse = np.mean(np.square(subject_60 - generated_ecgs_reshaped))\n",
    "print(f'Mean Squared Error (MSE): {mse}')"
   ]
  }
 ],
 "metadata": {
  "accelerator": "GPU",
  "colab": {
   "provenance": []
  },
  "kernelspec": {
   "display_name": "Python 3 (ipykernel)",
   "language": "python",
   "name": "python3"
  },
  "language_info": {
   "codemirror_mode": {
    "name": "ipython",
    "version": 3
   },
   "file_extension": ".py",
   "mimetype": "text/x-python",
   "name": "python",
   "nbconvert_exporter": "python",
   "pygments_lexer": "ipython3",
   "version": "3.9.18"
  },
  "vscode": {
   "interpreter": {
    "hash": "7500c3e1c7c786e4ba1e4b4eb7588219b4e35d5153674f92eb3a82672b534f6e"
   }
  }
 },
 "nbformat": 4,
 "nbformat_minor": 4
}
