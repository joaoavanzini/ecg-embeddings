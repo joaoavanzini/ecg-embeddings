{
 "cells": [
  {
   "cell_type": "code",
   "execution_count": 1,
   "id": "207571cd-975b-4c6f-aff6-3016df963fe0",
   "metadata": {},
   "outputs": [],
   "source": [
    "import vitaldb\n",
    "import pandas as pd\n",
    "import numpy as np\n",
    "import os"
   ]
  },
  {
   "cell_type": "code",
   "execution_count": 5,
   "id": "06c5df7c-9a4b-4713-8cc4-2f7fbca403c5",
   "metadata": {},
   "outputs": [],
   "source": [
    "def process_case(case_id, ecg_track_name='SNUADC/ECG_II', blob_duration=310, interval=1/100):\n",
    "    blob_size = int(blob_duration / interval)\n",
    "    \n",
    "    vf = vitaldb.VitalFile(case_id, [ecg_track_name])\n",
    "    ecg_signal = vf.to_numpy([ecg_track_name], interval=interval)[:, 0]\n",
    "    \n",
    "    # Remove NaN values from the ecg_signal\n",
    "    ecg_signal = ecg_signal[~np.isnan(ecg_signal)]\n",
    "    \n",
    "    blobs = [ecg_signal[i:i + blob_size][:30000] for i in range(0, len(ecg_signal), blob_size)]\n",
    "    \n",
    "    output_dir = f\"./output_blobs_case_{case_id}\"\n",
    "    if not os.path.exists(output_dir):\n",
    "        os.makedirs(output_dir)\n",
    "    \n",
    "    for i, blob in enumerate(blobs, 1):\n",
    "        blob_df = pd.DataFrame({'ECG': blob})\n",
    "        blob_df.to_csv(f\"{output_dir}/subject_{case_id}_blob_{i}.csv\", index=False)\n",
    "\n",
    "    return blobs"
   ]
  },
  {
   "cell_type": "code",
   "execution_count": 6,
   "id": "1862fab8-adb5-4579-9b5b-23364d88bff1",
   "metadata": {},
   "outputs": [
    {
     "name": "stdout",
     "output_type": "stream",
     "text": [
      "Case ID 1: Número total de blobs gerados: 38\n",
      "Case ID 2: Número total de blobs gerados: 51\n",
      "Case ID 3: Número total de blobs gerados: 15\n",
      "Case ID 4: Número total de blobs gerados: 68\n",
      "Case ID 5: Número total de blobs gerados: 70\n",
      "Case ID 6: Número total de blobs gerados: 17\n",
      "Case ID 7: Número total de blobs gerados: 51\n",
      "Case ID 8: Número total de blobs gerados: 20\n",
      "Case ID 9: Número total de blobs gerados: 15\n",
      "Case ID 10: Número total de blobs gerados: 68\n",
      "Case ID 11: Número total de blobs gerados: 17\n",
      "Case ID 12: Número total de blobs gerados: 73\n",
      "Case ID 13: Número total de blobs gerados: 35\n",
      "Case ID 14: Número total de blobs gerados: 14\n",
      "Case ID 15: Número total de blobs gerados: 12\n",
      "Case ID 16: Número total de blobs gerados: 42\n",
      "Case ID 17: Número total de blobs gerados: 66\n",
      "Case ID 18: Número total de blobs gerados: 15\n",
      "Case ID 19: Número total de blobs gerados: 89\n",
      "Case ID 20: Número total de blobs gerados: 86\n",
      "Case ID 21: Número total de blobs gerados: 41\n",
      "Case ID 22: Número total de blobs gerados: 47\n",
      "Case ID 23: Número total de blobs gerados: 10\n",
      "Case ID 24: Número total de blobs gerados: 21\n",
      "Case ID 25: Número total de blobs gerados: 48\n",
      "Case ID 26: Número total de blobs gerados: 35\n",
      "Case ID 27: Número total de blobs gerados: 58\n",
      "Case ID 28: Número total de blobs gerados: 87\n",
      "Case ID 29: Número total de blobs gerados: 69\n",
      "Case ID 30: Número total de blobs gerados: 36\n",
      "Total de blobs gerados em todos os casos: 1314\n",
      "Exportação concluída.\n"
     ]
    }
   ],
   "source": [
    "all_dataframes = []\n",
    "total_blobs_generated = 0\n",
    "\n",
    "for case_id in range(1, 31):\n",
    "    blobs = process_case(case_id)\n",
    "    total_blobs_generated += len(blobs)\n",
    "    print(f\"Case ID {case_id}: Número total de blobs gerados: {len(blobs)}\")\n",
    "    \n",
    "    # Append each blob DataFrame to the list\n",
    "    for i, blob in enumerate(blobs, 1):\n",
    "        blob_df = pd.read_csv(f\"./output_blobs_case_{case_id}/subject_{case_id}_blob_{i}.csv\")\n",
    "        all_dataframes.append(blob_df)\n",
    "\n",
    "# Concatenate all DataFrames into one\n",
    "merged_df = pd.concat(all_dataframes, ignore_index=True)\n",
    "\n",
    "# Export the merged DataFrame to a single CSV file\n",
    "merged_df.to_csv(\"./merged_ecg_data.csv\", index=False)\n",
    "\n",
    "print(f\"Total de blobs gerados em todos os casos: {total_blobs_generated}\")\n",
    "print(\"Exportação concluída.\")"
   ]
  },
  {
   "cell_type": "code",
   "execution_count": null,
   "id": "c660e0ca-906e-45b4-825d-eb50e256d2dd",
   "metadata": {},
   "outputs": [],
   "source": []
  },
  {
   "cell_type": "code",
   "execution_count": null,
   "id": "120f41c3-c95e-4536-bcb7-01f7da575035",
   "metadata": {},
   "outputs": [],
   "source": []
  }
 ],
 "metadata": {
  "kernelspec": {
   "display_name": "Python 3 (ipykernel)",
   "language": "python",
   "name": "python3"
  },
  "language_info": {
   "codemirror_mode": {
    "name": "ipython",
    "version": 3
   },
   "file_extension": ".py",
   "mimetype": "text/x-python",
   "name": "python",
   "nbconvert_exporter": "python",
   "pygments_lexer": "ipython3",
   "version": "3.9.18"
  }
 },
 "nbformat": 4,
 "nbformat_minor": 5
}
